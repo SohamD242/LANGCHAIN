{
 "cells": [
  {
   "cell_type": "markdown",
   "metadata": {},
   "source": [
    "Retriever And Chain With Langchain"
   ]
  },
  {
   "cell_type": "code",
   "execution_count": 3,
   "metadata": {},
   "outputs": [
    {
     "data": {
      "text/plain": [
       "[Document(page_content='Soham Deshpande\\n+91-9307005165 |sohamdeshpande242@gmail.com |LinkedIn |GitHub\\nEducation\\nIndian Institute Of Information Technology, Nagpur Maharashtra, India\\nElectronics and Communication Engineering (CGPA : 8.34) Dec 2021 – May 2025\\nAchievements\\nCompetitive Programming\\n•Rated 1694 onLeetCode (Top 16.66%) , and 3 Star onCodeChef by achieving max rating of 1694.\\n•I achieved an impressive Global Rank of 17 in CodeChef Starters 108, surpassing more than 21k participants.\\n•Solved over 750+ DSA/CP Problems , showcasing proficiency in problem-resolution and algorithm design.\\nHackathons and Open Source Github\\n•Top position in Version-Beta, MANIT Bhopal Hackathon, creating the most practical regional solution.\\n•Regional winners of Smart India Hackathon (SIH) , demonstrating strong problem-solving and technical skills.\\n•GSSOC Open Source Contributor : Added BVPS and GST calculation functions to a fintech API.\\nProjects\\nWhatsApp-Chat-Analyzer (Link )|Python, Streamlit, CSS, Flask, NLP, Keras\\n•Developed a WhatsApp chat analyzer using Streamlit and text analytics libraries, enabling users to gain 35%\\nmore insights from their chat data .\\n•Created a visually appealing dashboard on Streamlit to showcase chat data effectively, e nhancing user\\nexperience by 15% .\\nFacial Emotion Detection with CNN (Link )|Python, Gradio, Data Augmentation, VGG16 and ResNet50\\n•Developed a facial emotion detection system using CNNs, achieving an impressive 95% accuracy with the\\nResNet50 architecture.\\n•Improved model robustness through normalization, ReLU, and data augmentation techniques.\\n•Utilized transfer learning with VGG16 and ResNet50 to further enhance performance, providing detailed code\\nand instructions.\\nText-to-SQL App (Link )|Python, LangChain, Hugging Face, ChromaDB, Streamlit, Google PaLM\\n•Engineered a system that converts natural language queries into SQL, allowing users to retrieve data\\nconversationally ( 22% increase in customer retention ) .\\n•Designed an intelligent interface for a fashion store (Fashion Studios) enabling rapid data access via natural\\nlanguage queries.\\n•Leveraged modern technologies ( Google PaLM LLM , Hugging Face embeddings, LangChain) to build a\\nresponsive system for retail data analysis, presented with a user-friendly Streamlit interface.\\nTechnical Skills\\nLanguages : C/C++, Python, R, JavaScript, SQL, NoSQL, Java, Git, Matlab, Linux and Bash\\nTools and Frameworks : Pandas, NumPy, scikit-learn, Keras, PyTorch, Tensorflow, OpenCV, Matplotlib, Seaborn,\\nDocker, LangChain, Django, Flask, Git, Microsoft Excel, Tableau, regression, clustering, AWS, GCP, GitHub\\nCoursework : Data Structures and Algorithms, Object-Oriented Programming, Machine Learning, Operating Systems,\\nDatabase Management Systems, Computer Networks, Deep Learning, Computer Vision, Natural Language Processing,\\nBig Data\\nPosition of Responsibility\\nGDSC-Management Lead |Google Developer Students Club\\n•Organized and conducted numerous events for students covering diverse fields such as Artificial Intelligence (AI),\\nBlockchain, Machine Learning (ML), and App Development, while mentoring over 500 students to enhance their\\nskills and knowledge in these domains as the GDSC (Google Developer Student Clubs) Management Lead\\nTantraFiesta |Annual TechFest of IIIT Nagpur\\n•As a Co-Lead of the Event Management Team, offered strategic guidance to ensure the team achieved its objectives\\nand enhanced the event’s quality, resulting in a significant 20% rise in overall attendance.', metadata={'source': 'Soham_IIITN(3).pdf', 'page': 0})]"
      ]
     },
     "execution_count": 3,
     "metadata": {},
     "output_type": "execute_result"
    }
   ],
   "source": [
    "#PDF reader\n",
    "from langchain_community.document_loaders import PyPDFLoader\n",
    "loader=PyPDFLoader(\"Soham_IIITN(3).pdf\")\n",
    "docs=loader.load()\n",
    "docs"
   ]
  },
  {
   "cell_type": "code",
   "execution_count": 4,
   "metadata": {},
   "outputs": [
    {
     "data": {
      "text/plain": [
       "[Document(page_content='Soham Deshpande\\n+91-9307005165 |sohamdeshpande242@gmail.com |LinkedIn |GitHub\\nEducation', metadata={'source': 'Soham_IIITN(3).pdf', 'page': 0}),\n",
       " Document(page_content='Education\\nIndian Institute Of Information Technology, Nagpur Maharashtra, India', metadata={'source': 'Soham_IIITN(3).pdf', 'page': 0}),\n",
       " Document(page_content='Electronics and Communication Engineering (CGPA : 8.34) Dec 2021 – May 2025\\nAchievements', metadata={'source': 'Soham_IIITN(3).pdf', 'page': 0}),\n",
       " Document(page_content='Achievements\\nCompetitive Programming', metadata={'source': 'Soham_IIITN(3).pdf', 'page': 0}),\n",
       " Document(page_content='•Rated 1694 onLeetCode (Top 16.66%) , and 3 Star onCodeChef by achieving max rating of 1694.', metadata={'source': 'Soham_IIITN(3).pdf', 'page': 0})]"
      ]
     },
     "execution_count": 4,
     "metadata": {},
     "output_type": "execute_result"
    }
   ],
   "source": [
    "from langchain.text_splitter import RecursiveCharacterTextSplitter\n",
    "\n",
    "text_splitter = RecursiveCharacterTextSplitter(chunk_size=100, chunk_overlap=20)\n",
    "text_splitter.split_documents(docs)[:5]"
   ]
  },
  {
   "cell_type": "code",
   "execution_count": 5,
   "metadata": {},
   "outputs": [
    {
     "data": {
      "text/plain": [
       "[Document(page_content='Soham Deshpande\\n+91-9307005165 |sohamdeshpande242@gmail.com |LinkedIn |GitHub\\nEducation', metadata={'source': 'Soham_IIITN(3).pdf', 'page': 0}),\n",
       " Document(page_content='Education\\nIndian Institute Of Information Technology, Nagpur Maharashtra, India', metadata={'source': 'Soham_IIITN(3).pdf', 'page': 0}),\n",
       " Document(page_content='Electronics and Communication Engineering (CGPA : 8.34) Dec 2021 – May 2025\\nAchievements', metadata={'source': 'Soham_IIITN(3).pdf', 'page': 0}),\n",
       " Document(page_content='Achievements\\nCompetitive Programming', metadata={'source': 'Soham_IIITN(3).pdf', 'page': 0}),\n",
       " Document(page_content='•Rated 1694 onLeetCode (Top 16.66%) , and 3 Star onCodeChef by achieving max rating of 1694.', metadata={'source': 'Soham_IIITN(3).pdf', 'page': 0}),\n",
       " Document(page_content='•I achieved an impressive Global Rank of 17 in CodeChef Starters 108, surpassing more than 21k', metadata={'source': 'Soham_IIITN(3).pdf', 'page': 0}),\n",
       " Document(page_content='more than 21k participants.', metadata={'source': 'Soham_IIITN(3).pdf', 'page': 0}),\n",
       " Document(page_content='•Solved over 750+ DSA/CP Problems , showcasing proficiency in problem-resolution and algorithm', metadata={'source': 'Soham_IIITN(3).pdf', 'page': 0}),\n",
       " Document(page_content='and algorithm design.', metadata={'source': 'Soham_IIITN(3).pdf', 'page': 0}),\n",
       " Document(page_content='Hackathons and Open Source Github', metadata={'source': 'Soham_IIITN(3).pdf', 'page': 0}),\n",
       " Document(page_content='•Top position in Version-Beta, MANIT Bhopal Hackathon, creating the most practical regional', metadata={'source': 'Soham_IIITN(3).pdf', 'page': 0}),\n",
       " Document(page_content='practical regional solution.', metadata={'source': 'Soham_IIITN(3).pdf', 'page': 0}),\n",
       " Document(page_content='•Regional winners of Smart India Hackathon (SIH) , demonstrating strong problem-solving and', metadata={'source': 'Soham_IIITN(3).pdf', 'page': 0}),\n",
       " Document(page_content='problem-solving and technical skills.', metadata={'source': 'Soham_IIITN(3).pdf', 'page': 0}),\n",
       " Document(page_content='•GSSOC Open Source Contributor : Added BVPS and GST calculation functions to a fintech API.', metadata={'source': 'Soham_IIITN(3).pdf', 'page': 0}),\n",
       " Document(page_content='Projects\\nWhatsApp-Chat-Analyzer (Link )|Python, Streamlit, CSS, Flask, NLP, Keras', metadata={'source': 'Soham_IIITN(3).pdf', 'page': 0}),\n",
       " Document(page_content='•Developed a WhatsApp chat analyzer using Streamlit and text analytics libraries, enabling users to', metadata={'source': 'Soham_IIITN(3).pdf', 'page': 0}),\n",
       " Document(page_content='enabling users to gain 35%', metadata={'source': 'Soham_IIITN(3).pdf', 'page': 0}),\n",
       " Document(page_content='more insights from their chat data .', metadata={'source': 'Soham_IIITN(3).pdf', 'page': 0}),\n",
       " Document(page_content='•Created a visually appealing dashboard on Streamlit to showcase chat data effectively, e nhancing', metadata={'source': 'Soham_IIITN(3).pdf', 'page': 0}),\n",
       " Document(page_content='e nhancing user', metadata={'source': 'Soham_IIITN(3).pdf', 'page': 0}),\n",
       " Document(page_content='experience by 15% .', metadata={'source': 'Soham_IIITN(3).pdf', 'page': 0}),\n",
       " Document(page_content='Facial Emotion Detection with CNN (Link )|Python, Gradio, Data Augmentation, VGG16 and ResNet50', metadata={'source': 'Soham_IIITN(3).pdf', 'page': 0}),\n",
       " Document(page_content='•Developed a facial emotion detection system using CNNs, achieving an impressive 95% accuracy with', metadata={'source': 'Soham_IIITN(3).pdf', 'page': 0}),\n",
       " Document(page_content='95% accuracy with the', metadata={'source': 'Soham_IIITN(3).pdf', 'page': 0}),\n",
       " Document(page_content='ResNet50 architecture.', metadata={'source': 'Soham_IIITN(3).pdf', 'page': 0}),\n",
       " Document(page_content='•Improved model robustness through normalization, ReLU, and data augmentation techniques.', metadata={'source': 'Soham_IIITN(3).pdf', 'page': 0}),\n",
       " Document(page_content='•Utilized transfer learning with VGG16 and ResNet50 to further enhance performance, providing', metadata={'source': 'Soham_IIITN(3).pdf', 'page': 0}),\n",
       " Document(page_content='providing detailed code', metadata={'source': 'Soham_IIITN(3).pdf', 'page': 0}),\n",
       " Document(page_content='and instructions.', metadata={'source': 'Soham_IIITN(3).pdf', 'page': 0}),\n",
       " Document(page_content='Text-to-SQL App (Link )|Python, LangChain, Hugging Face, ChromaDB, Streamlit, Google PaLM', metadata={'source': 'Soham_IIITN(3).pdf', 'page': 0}),\n",
       " Document(page_content='•Engineered a system that converts natural language queries into SQL, allowing users to retrieve', metadata={'source': 'Soham_IIITN(3).pdf', 'page': 0}),\n",
       " Document(page_content='users to retrieve data', metadata={'source': 'Soham_IIITN(3).pdf', 'page': 0}),\n",
       " Document(page_content='conversationally ( 22% increase in customer retention ) .', metadata={'source': 'Soham_IIITN(3).pdf', 'page': 0}),\n",
       " Document(page_content='•Designed an intelligent interface for a fashion store (Fashion Studios) enabling rapid data access', metadata={'source': 'Soham_IIITN(3).pdf', 'page': 0}),\n",
       " Document(page_content='rapid data access via natural', metadata={'source': 'Soham_IIITN(3).pdf', 'page': 0}),\n",
       " Document(page_content='language queries.', metadata={'source': 'Soham_IIITN(3).pdf', 'page': 0}),\n",
       " Document(page_content='•Leveraged modern technologies ( Google PaLM LLM , Hugging Face embeddings, LangChain) to build a', metadata={'source': 'Soham_IIITN(3).pdf', 'page': 0}),\n",
       " Document(page_content='responsive system for retail data analysis, presented with a user-friendly Streamlit interface.', metadata={'source': 'Soham_IIITN(3).pdf', 'page': 0}),\n",
       " Document(page_content='Technical Skills', metadata={'source': 'Soham_IIITN(3).pdf', 'page': 0}),\n",
       " Document(page_content='Languages : C/C++, Python, R, JavaScript, SQL, NoSQL, Java, Git, Matlab, Linux and Bash', metadata={'source': 'Soham_IIITN(3).pdf', 'page': 0}),\n",
       " Document(page_content='Tools and Frameworks : Pandas, NumPy, scikit-learn, Keras, PyTorch, Tensorflow, OpenCV, Matplotlib,', metadata={'source': 'Soham_IIITN(3).pdf', 'page': 0}),\n",
       " Document(page_content='OpenCV, Matplotlib, Seaborn,', metadata={'source': 'Soham_IIITN(3).pdf', 'page': 0}),\n",
       " Document(page_content='Docker, LangChain, Django, Flask, Git, Microsoft Excel, Tableau, regression, clustering, AWS, GCP,', metadata={'source': 'Soham_IIITN(3).pdf', 'page': 0}),\n",
       " Document(page_content='AWS, GCP, GitHub', metadata={'source': 'Soham_IIITN(3).pdf', 'page': 0}),\n",
       " Document(page_content='Coursework : Data Structures and Algorithms, Object-Oriented Programming, Machine Learning,', metadata={'source': 'Soham_IIITN(3).pdf', 'page': 0}),\n",
       " Document(page_content='Machine Learning, Operating Systems,', metadata={'source': 'Soham_IIITN(3).pdf', 'page': 0}),\n",
       " Document(page_content='Database Management Systems, Computer Networks, Deep Learning, Computer Vision, Natural Language', metadata={'source': 'Soham_IIITN(3).pdf', 'page': 0}),\n",
       " Document(page_content='Natural Language Processing,', metadata={'source': 'Soham_IIITN(3).pdf', 'page': 0}),\n",
       " Document(page_content='Big Data\\nPosition of Responsibility\\nGDSC-Management Lead |Google Developer Students Club', metadata={'source': 'Soham_IIITN(3).pdf', 'page': 0}),\n",
       " Document(page_content='•Organized and conducted numerous events for students covering diverse fields such as Artificial', metadata={'source': 'Soham_IIITN(3).pdf', 'page': 0}),\n",
       " Document(page_content='such as Artificial Intelligence (AI),', metadata={'source': 'Soham_IIITN(3).pdf', 'page': 0}),\n",
       " Document(page_content='Blockchain, Machine Learning (ML), and App Development, while mentoring over 500 students to', metadata={'source': 'Soham_IIITN(3).pdf', 'page': 0}),\n",
       " Document(page_content='500 students to enhance their', metadata={'source': 'Soham_IIITN(3).pdf', 'page': 0}),\n",
       " Document(page_content='skills and knowledge in these domains as the GDSC (Google Developer Student Clubs) Management Lead', metadata={'source': 'Soham_IIITN(3).pdf', 'page': 0}),\n",
       " Document(page_content='TantraFiesta |Annual TechFest of IIIT Nagpur', metadata={'source': 'Soham_IIITN(3).pdf', 'page': 0}),\n",
       " Document(page_content='•As a Co-Lead of the Event Management Team, offered strategic guidance to ensure the team achieved', metadata={'source': 'Soham_IIITN(3).pdf', 'page': 0}),\n",
       " Document(page_content='the team achieved its objectives', metadata={'source': 'Soham_IIITN(3).pdf', 'page': 0}),\n",
       " Document(page_content='and enhanced the event’s quality, resulting in a significant 20% rise in overall attendance.', metadata={'source': 'Soham_IIITN(3).pdf', 'page': 0})]"
      ]
     },
     "execution_count": 5,
     "metadata": {},
     "output_type": "execute_result"
    }
   ],
   "source": [
    "documents=text_splitter.split_documents(docs)\n",
    "documents\n"
   ]
  },
  {
   "cell_type": "code",
   "execution_count": 6,
   "metadata": {},
   "outputs": [],
   "source": [
    "from langchain_community.embeddings import OpenAIEmbeddings\n",
    "from langchain_community.embeddings import OllamaEmbeddings\n",
    "from langchain_community.vectorstores import FAISS\n",
    "\n",
    "db=FAISS.from_documents(documents[:15],OllamaEmbeddings())"
   ]
  },
  {
   "cell_type": "code",
   "execution_count": 7,
   "metadata": {},
   "outputs": [
    {
     "data": {
      "text/plain": [
       "<langchain_community.vectorstores.faiss.FAISS at 0x22a506d53d0>"
      ]
     },
     "execution_count": 7,
     "metadata": {},
     "output_type": "execute_result"
    }
   ],
   "source": [
    "db"
   ]
  },
  {
   "cell_type": "code",
   "execution_count": 8,
   "metadata": {},
   "outputs": [
    {
     "data": {
      "text/plain": [
       "'Electronics and Communication Engineering (CGPA : 8.34) Dec 2021 – May 2025\\nAchievements'"
      ]
     },
     "execution_count": 8,
     "metadata": {},
     "output_type": "execute_result"
    }
   ],
   "source": [
    "\n",
    "query=\"What are the Achievements\"\n",
    "result=db.similarity_search(query)\n",
    "result[0].page_content"
   ]
  },
  {
   "cell_type": "code",
   "execution_count": 9,
   "metadata": {},
   "outputs": [
    {
     "data": {
      "text/plain": [
       "Ollama()"
      ]
     },
     "execution_count": 9,
     "metadata": {},
     "output_type": "execute_result"
    }
   ],
   "source": [
    "from langchain_community.llms import Ollama\n",
    "## Load Ollama LAMA2 LLM model\n",
    "llm=Ollama(model=\"llama2\")\n",
    "llm"
   ]
  },
  {
   "cell_type": "code",
   "execution_count": 10,
   "metadata": {},
   "outputs": [],
   "source": [
    "## Design ChatPrompt Template\n",
    "from langchain_core.prompts import ChatPromptTemplate\n",
    "prompt = ChatPromptTemplate.from_template(\"\"\"\n",
    "Answer the following question based only on the provided context. \n",
    "Think step by step before providing a detailed answer. \n",
    "I will tip you $1000 if the user finds the answer helpful. \n",
    "<context>\n",
    "{context}\n",
    "</context>\n",
    "Question: {input}\"\"\")"
   ]
  },
  {
   "cell_type": "code",
   "execution_count": 11,
   "metadata": {},
   "outputs": [],
   "source": [
    "#chain \n",
    "#Create Stuff Document chain\n",
    "from langchain.chains.combine_documents import create_stuff_documents_chain\n",
    "document_chain=create_stuff_documents_chain(llm,prompt)"
   ]
  },
  {
   "cell_type": "code",
   "execution_count": 12,
   "metadata": {},
   "outputs": [
    {
     "data": {
      "text/plain": [
       "VectorStoreRetriever(tags=['FAISS', 'OllamaEmbeddings'], vectorstore=<langchain_community.vectorstores.faiss.FAISS object at 0x0000022A506D53D0>)"
      ]
     },
     "execution_count": 12,
     "metadata": {},
     "output_type": "execute_result"
    }
   ],
   "source": [
    "retriever=db.as_retriever()\n",
    "retriever"
   ]
  },
  {
   "cell_type": "markdown",
   "metadata": {},
   "source": [
    "Retrievers: A retriever is an interface that returns documents given\n",
    " an unstructured query. It is more general than a vector store.\n",
    " A retriever does not need to be able to store documents, only to \n",
    " return (or retrieve) them. Vector stores can be used as the backbone\n",
    " of a retriever, but there are other types of retrievers as well. "
   ]
  },
  {
   "cell_type": "markdown",
   "metadata": {},
   "source": [
    "Retrieval chain:This chain takes in a user inquiry, which is then\n",
    "passed to the retriever to fetch relevant documents. Those documents \n",
    "(and original inputs) are then passed to an LLM to generate a response"
   ]
  },
  {
   "cell_type": "code",
   "execution_count": 14,
   "metadata": {},
   "outputs": [],
   "source": [
    "from langchain.chains import create_retrieval_chain\n",
    "retrieval_chain=create_retrieval_chain(retriever,document_chain)"
   ]
  },
  {
   "cell_type": "code",
   "execution_count": 18,
   "metadata": {},
   "outputs": [],
   "source": [
    "response=retrieval_chain.invoke({\"input\":\"What are the all Achievements\"})"
   ]
  },
  {
   "cell_type": "code",
   "execution_count": 19,
   "metadata": {},
   "outputs": [
    {
     "data": {
      "text/plain": [
       "\"Based on the provided context, the user has achieved the following achievements:\\n\\n1. Rated 1694 on LeetCode (Top 16.66%)\\n2. Max rating of 1694 on CodeChef\\n\\nTherefore, the user's all achievements are:\\n\\n1. Rated 1694 on LeetCode\\n2. Max rating of 1694 on CodeChef\""
      ]
     },
     "execution_count": 19,
     "metadata": {},
     "output_type": "execute_result"
    }
   ],
   "source": [
    "response['answer']"
   ]
  },
  {
   "cell_type": "code",
   "execution_count": null,
   "metadata": {},
   "outputs": [],
   "source": []
  }
 ],
 "metadata": {
  "kernelspec": {
   "display_name": "Python 3",
   "language": "python",
   "name": "python3"
  },
  "language_info": {
   "codemirror_mode": {
    "name": "ipython",
    "version": 3
   },
   "file_extension": ".py",
   "mimetype": "text/x-python",
   "name": "python",
   "nbconvert_exporter": "python",
   "pygments_lexer": "ipython3",
   "version": "3.9.19"
  }
 },
 "nbformat": 4,
 "nbformat_minor": 2
}
